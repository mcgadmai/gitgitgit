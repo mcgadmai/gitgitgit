{
 "cells": [
  {
   "cell_type": "code",
   "execution_count": 3,
   "metadata": {},
   "outputs": [],
   "source": [
    "import d2lzh as d2l\n",
    "from mxnet import autograd,gluon,init,nd\n",
    "from mxnet.gluon import loss as gloss,nn\n",
    "def drop_out(X,drop_prob):\n",
    "    assert 0<=drop_prob<=1\n",
    "    keep_prob=1-drop_prob\n",
    "    if keep_prob==0:\n",
    "        return X.zeros_like()\n",
    "    mask=nd.random.uniform(0,1,X.shape)<keep_prob\n",
    "    return mask*X/keep_prob"
   ]
  },
  {
   "cell_type": "code",
   "execution_count": 27,
   "metadata": {},
   "outputs": [
    {
     "data": {
      "text/plain": [
       "\n",
       "[[0. 0. 0. 0. 0. 0. 0. 0.]\n",
       " [0. 0. 0. 0. 0. 0. 0. 0.]]\n",
       "<NDArray 2x8 @cpu(0)>"
      ]
     },
     "execution_count": 27,
     "metadata": {},
     "output_type": "execute_result"
    }
   ],
   "source": [
    "X=nd.arange(16).reshape(2,8)\n",
    "Y=drop_out(X,1)\n",
    "Y"
   ]
  },
  {
   "cell_type": "code",
   "execution_count": 28,
   "metadata": {},
   "outputs": [
    {
     "data": {
      "text/plain": [
       "\n",
       "[0.]\n",
       "<NDArray 1 @cpu(0)>"
      ]
     },
     "execution_count": 28,
     "metadata": {},
     "output_type": "execute_result"
    }
   ],
   "source": [
    "Y.mean()"
   ]
  },
  {
   "cell_type": "code",
   "execution_count": 30,
   "metadata": {},
   "outputs": [],
   "source": [
    "num_inputs,num_outputs,num_hiddens1,num_hiddens2=784,10,256,256\n",
    "W1=nd.random.normal(scale=0.01,shape=(num_inputs,num_hiddens1))\n",
    "b1=nd.zeros(num_hiddens1)\n",
    "W2=nd.random.normal(scale=0.01,shape=(num_hiddens1,num_hiddens2))\n",
    "b2=nd.zeros(num_hiddens2)\n",
    "W3=nd.random.normal(scale=0.01,shape=(num_hiddens2,num_outputs))\n",
    "b3=nd.zeros(num_outputs)\n",
    "params=[W1,b1,W2,b2,W3,b3]\n",
    "for param in params:\n",
    "    param.attach_grad()"
   ]
  },
  {
   "cell_type": "code",
   "execution_count": 39,
   "metadata": {},
   "outputs": [],
   "source": [
    "drop_prob1,drop_prob2=0.5,0.2\n",
    "def net(X):\n",
    "    X=X.reshape((-1,num_inputs))\n",
    "    H1=(nd.dot(X,W1)+b1).relu()\n",
    "    if autograd.is_training():\n",
    "        H1=drop_out(H1,drop_prob1)\n",
    "    H2=(nd.dot(H1,W2)+b2).relu()\n",
    "    if autograd.is_training():\n",
    "        H2=drop_out(H2,drop_prob2)\n",
    "    return nd.dot(H2,W3)+b3"
   ]
  },
  {
   "cell_type": "code",
   "execution_count": 40,
   "metadata": {},
   "outputs": [
    {
     "name": "stdout",
     "output_type": "stream",
     "text": [
      "epoch 1, loss 0.3685, train acc 0.863, test acc 0.875\n",
      "epoch 2, loss 0.3609, train acc 0.867, test acc 0.877\n",
      "epoch 3, loss 0.3543, train acc 0.870, test acc 0.883\n",
      "epoch 4, loss 0.3467, train acc 0.872, test acc 0.880\n",
      "epoch 5, loss 0.3421, train acc 0.874, test acc 0.879\n"
     ]
    }
   ],
   "source": [
    "num_epochs,lr,batch_size=5,0.5,256\n",
    "loss=gloss.SoftmaxCrossEntropyLoss()\n",
    "train_iter,test_iter=d2l.load_data_fashion_mnist(batch_size)\n",
    "d2l.train_ch3(net,train_iter,test_iter,loss,num_epochs,batch_size,params,lr)"
   ]
  },
  {
   "cell_type": "code",
   "execution_count": 35,
   "metadata": {},
   "outputs": [],
   "source": [
    "net=nn.Sequential()\n",
    "net.add(nn.Dense(256,activation=\"relu\"),nn.Dropout(drop_prob1),\n",
    "       nn.Dense(256,activation=\"relu\"),nn.Dropout(drop_prob2),\n",
    "       nn.Dense(10))\n",
    "net.initialize(init.Normal(sigma=0.01))"
   ]
  },
  {
   "cell_type": "code",
   "execution_count": 36,
   "metadata": {},
   "outputs": [
    {
     "name": "stdout",
     "output_type": "stream",
     "text": [
      "epoch 1, loss 1.1766, train acc 0.556, test acc 0.742\n",
      "epoch 2, loss 0.5807, train acc 0.784, test acc 0.839\n",
      "epoch 3, loss 0.4892, train acc 0.821, test acc 0.851\n",
      "epoch 4, loss 0.4440, train acc 0.837, test acc 0.860\n",
      "epoch 5, loss 0.4211, train acc 0.846, test acc 0.861\n"
     ]
    }
   ],
   "source": [
    "trainer=gluon.Trainer(net.collect_params(),'sgd',{'learning_rate':lr})\n",
    "d2l.train_ch3(net,train_iter,test_iter,loss,num_epochs,batch_size,None,None,trainer)"
   ]
  },
  {
   "cell_type": "code",
   "execution_count": 46,
   "metadata": {},
   "outputs": [
    {
     "name": "stdout",
     "output_type": "stream",
     "text": [
      "epoch 1, loss 1.6856, train acc 0.714, test acc 0.806\n",
      "epoch 2, loss 1.0182, train acc 0.783, test acc 0.807\n",
      "epoch 3, loss 0.9471, train acc 0.796, test acc 0.846\n",
      "epoch 4, loss 0.8623, train acc 0.805, test acc 0.823\n",
      "epoch 5, loss 0.8376, train acc 0.808, test acc 0.847\n"
     ]
    }
   ],
   "source": [
    "net=nn.Sequential()\n",
    "net.add(nn.Dense(10))\n",
    "net.initialize(init.Normal(sigma=0.01))\n",
    "wd=0.00001\n",
    "trainer=gluon.Trainer(net.collect_params(),'sgd',{'learning_rate':lr,'wd':wd})\n",
    "d2l.train_ch3(net,train_iter,test_iter,loss,num_epochs,batch_size,None,None,trainer)"
   ]
  },
  {
   "cell_type": "code",
   "execution_count": null,
   "metadata": {},
   "outputs": [],
   "source": []
  }
 ],
 "metadata": {
  "kernelspec": {
   "display_name": "Python 3",
   "language": "python",
   "name": "python3"
  },
  "language_info": {
   "codemirror_mode": {
    "name": "ipython",
    "version": 3
   },
   "file_extension": ".py",
   "mimetype": "text/x-python",
   "name": "python",
   "nbconvert_exporter": "python",
   "pygments_lexer": "ipython3",
   "version": "3.6.12"
  }
 },
 "nbformat": 4,
 "nbformat_minor": 4
}
